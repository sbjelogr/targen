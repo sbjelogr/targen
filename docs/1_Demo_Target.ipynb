{
 "cells": [
  {
   "cell_type": "code",
   "execution_count": 1,
   "metadata": {},
   "outputs": [],
   "source": [
    "%load_ext autoreload\n",
    "%autoreload 2"
   ]
  },
  {
   "cell_type": "code",
   "execution_count": 2,
   "metadata": {},
   "outputs": [],
   "source": [
    "from sklearn.datasets import make_classification\n",
    "\n",
    "import pandas as pd\n",
    "import numpy as np\n",
    "import matplotlib.pyplot as plt\n",
    "\n",
    "from targen.data import target"
   ]
  },
  {
   "cell_type": "markdown",
   "metadata": {},
   "source": [
    "### Get random data"
   ]
  },
  {
   "cell_type": "code",
   "execution_count": 3,
   "metadata": {},
   "outputs": [],
   "source": [
    "X, dummy = make_classification( n_samples=1000,\n",
    "    n_features=20)"
   ]
  },
  {
   "cell_type": "markdown",
   "metadata": {},
   "source": [
    "Map it to the dataframe"
   ]
  },
  {
   "cell_type": "code",
   "execution_count": 4,
   "metadata": {},
   "outputs": [],
   "source": [
    "data = pd.DataFrame(X, columns = [f'col_{ix}' for ix in range(X.shape[1])])"
   ]
  },
  {
   "cell_type": "code",
   "execution_count": 5,
   "metadata": {},
   "outputs": [
    {
     "data": {
      "text/html": [
       "<div>\n",
       "<style scoped>\n",
       "    .dataframe tbody tr th:only-of-type {\n",
       "        vertical-align: middle;\n",
       "    }\n",
       "\n",
       "    .dataframe tbody tr th {\n",
       "        vertical-align: top;\n",
       "    }\n",
       "\n",
       "    .dataframe thead th {\n",
       "        text-align: right;\n",
       "    }\n",
       "</style>\n",
       "<table border=\"1\" class=\"dataframe\">\n",
       "  <thead>\n",
       "    <tr style=\"text-align: right;\">\n",
       "      <th></th>\n",
       "      <th>col_0</th>\n",
       "      <th>col_1</th>\n",
       "      <th>col_2</th>\n",
       "      <th>col_3</th>\n",
       "      <th>col_4</th>\n",
       "      <th>col_5</th>\n",
       "      <th>col_6</th>\n",
       "      <th>col_7</th>\n",
       "      <th>col_8</th>\n",
       "      <th>col_9</th>\n",
       "      <th>col_10</th>\n",
       "      <th>col_11</th>\n",
       "      <th>col_12</th>\n",
       "      <th>col_13</th>\n",
       "      <th>col_14</th>\n",
       "      <th>col_15</th>\n",
       "      <th>col_16</th>\n",
       "      <th>col_17</th>\n",
       "      <th>col_18</th>\n",
       "      <th>col_19</th>\n",
       "    </tr>\n",
       "  </thead>\n",
       "  <tbody>\n",
       "    <tr>\n",
       "      <th>0</th>\n",
       "      <td>-1.850339</td>\n",
       "      <td>-1.197340</td>\n",
       "      <td>-0.355523</td>\n",
       "      <td>1.116181</td>\n",
       "      <td>1.845710</td>\n",
       "      <td>-0.477279</td>\n",
       "      <td>1.487521</td>\n",
       "      <td>0.315630</td>\n",
       "      <td>0.133985</td>\n",
       "      <td>-1.023797</td>\n",
       "      <td>-1.047755</td>\n",
       "      <td>0.650470</td>\n",
       "      <td>-0.318144</td>\n",
       "      <td>1.666031</td>\n",
       "      <td>0.175629</td>\n",
       "      <td>-1.099117</td>\n",
       "      <td>-0.756235</td>\n",
       "      <td>-0.506405</td>\n",
       "      <td>0.427088</td>\n",
       "      <td>-0.513930</td>\n",
       "    </tr>\n",
       "    <tr>\n",
       "      <th>1</th>\n",
       "      <td>1.488588</td>\n",
       "      <td>-0.913817</td>\n",
       "      <td>-1.418795</td>\n",
       "      <td>-0.747513</td>\n",
       "      <td>0.355358</td>\n",
       "      <td>-0.139962</td>\n",
       "      <td>-0.687829</td>\n",
       "      <td>-0.149273</td>\n",
       "      <td>0.551018</td>\n",
       "      <td>-1.487871</td>\n",
       "      <td>0.565381</td>\n",
       "      <td>-0.684635</td>\n",
       "      <td>0.463179</td>\n",
       "      <td>-1.374709</td>\n",
       "      <td>1.619136</td>\n",
       "      <td>-0.674355</td>\n",
       "      <td>-1.599199</td>\n",
       "      <td>0.909847</td>\n",
       "      <td>1.402835</td>\n",
       "      <td>-0.347821</td>\n",
       "    </tr>\n",
       "    <tr>\n",
       "      <th>2</th>\n",
       "      <td>-0.588405</td>\n",
       "      <td>-0.071284</td>\n",
       "      <td>-0.369446</td>\n",
       "      <td>0.751150</td>\n",
       "      <td>-1.082550</td>\n",
       "      <td>-0.731904</td>\n",
       "      <td>-0.194864</td>\n",
       "      <td>1.372475</td>\n",
       "      <td>-1.539740</td>\n",
       "      <td>0.300565</td>\n",
       "      <td>2.208001</td>\n",
       "      <td>-1.853615</td>\n",
       "      <td>0.578585</td>\n",
       "      <td>0.156055</td>\n",
       "      <td>-0.892241</td>\n",
       "      <td>-1.392123</td>\n",
       "      <td>-0.040691</td>\n",
       "      <td>0.309030</td>\n",
       "      <td>0.285427</td>\n",
       "      <td>1.147056</td>\n",
       "    </tr>\n",
       "    <tr>\n",
       "      <th>3</th>\n",
       "      <td>-1.701368</td>\n",
       "      <td>0.570917</td>\n",
       "      <td>-1.248805</td>\n",
       "      <td>-0.170574</td>\n",
       "      <td>-0.750793</td>\n",
       "      <td>0.629564</td>\n",
       "      <td>-2.122336</td>\n",
       "      <td>0.731701</td>\n",
       "      <td>-1.188198</td>\n",
       "      <td>0.706921</td>\n",
       "      <td>1.544067</td>\n",
       "      <td>-0.638208</td>\n",
       "      <td>-0.665960</td>\n",
       "      <td>0.821595</td>\n",
       "      <td>-0.600191</td>\n",
       "      <td>-1.040545</td>\n",
       "      <td>-0.306324</td>\n",
       "      <td>-1.203122</td>\n",
       "      <td>1.000677</td>\n",
       "      <td>0.704866</td>\n",
       "    </tr>\n",
       "    <tr>\n",
       "      <th>4</th>\n",
       "      <td>0.184303</td>\n",
       "      <td>1.012137</td>\n",
       "      <td>-1.679044</td>\n",
       "      <td>1.489328</td>\n",
       "      <td>-0.932593</td>\n",
       "      <td>0.857415</td>\n",
       "      <td>0.996254</td>\n",
       "      <td>0.730320</td>\n",
       "      <td>-0.476816</td>\n",
       "      <td>-1.924601</td>\n",
       "      <td>-0.056678</td>\n",
       "      <td>0.340880</td>\n",
       "      <td>0.488011</td>\n",
       "      <td>-1.848826</td>\n",
       "      <td>-1.419831</td>\n",
       "      <td>1.471304</td>\n",
       "      <td>-1.982000</td>\n",
       "      <td>0.447148</td>\n",
       "      <td>1.679173</td>\n",
       "      <td>-1.702966</td>\n",
       "    </tr>\n",
       "    <tr>\n",
       "      <th>...</th>\n",
       "      <td>...</td>\n",
       "      <td>...</td>\n",
       "      <td>...</td>\n",
       "      <td>...</td>\n",
       "      <td>...</td>\n",
       "      <td>...</td>\n",
       "      <td>...</td>\n",
       "      <td>...</td>\n",
       "      <td>...</td>\n",
       "      <td>...</td>\n",
       "      <td>...</td>\n",
       "      <td>...</td>\n",
       "      <td>...</td>\n",
       "      <td>...</td>\n",
       "      <td>...</td>\n",
       "      <td>...</td>\n",
       "      <td>...</td>\n",
       "      <td>...</td>\n",
       "      <td>...</td>\n",
       "      <td>...</td>\n",
       "    </tr>\n",
       "    <tr>\n",
       "      <th>995</th>\n",
       "      <td>-0.091892</td>\n",
       "      <td>-0.934044</td>\n",
       "      <td>0.147880</td>\n",
       "      <td>0.163007</td>\n",
       "      <td>-0.342986</td>\n",
       "      <td>0.627779</td>\n",
       "      <td>0.656880</td>\n",
       "      <td>-0.460088</td>\n",
       "      <td>0.406351</td>\n",
       "      <td>0.130552</td>\n",
       "      <td>-0.382486</td>\n",
       "      <td>0.691892</td>\n",
       "      <td>-0.353274</td>\n",
       "      <td>1.675991</td>\n",
       "      <td>-0.021521</td>\n",
       "      <td>0.697908</td>\n",
       "      <td>0.153288</td>\n",
       "      <td>0.252674</td>\n",
       "      <td>-0.143369</td>\n",
       "      <td>0.401495</td>\n",
       "    </tr>\n",
       "    <tr>\n",
       "      <th>996</th>\n",
       "      <td>-0.527461</td>\n",
       "      <td>0.150344</td>\n",
       "      <td>2.356521</td>\n",
       "      <td>-0.490172</td>\n",
       "      <td>0.008494</td>\n",
       "      <td>-0.276413</td>\n",
       "      <td>-0.612870</td>\n",
       "      <td>0.604112</td>\n",
       "      <td>0.552222</td>\n",
       "      <td>0.388602</td>\n",
       "      <td>-0.564388</td>\n",
       "      <td>-0.244958</td>\n",
       "      <td>-2.421771</td>\n",
       "      <td>0.261117</td>\n",
       "      <td>-0.513333</td>\n",
       "      <td>0.486842</td>\n",
       "      <td>1.518778</td>\n",
       "      <td>1.545145</td>\n",
       "      <td>-2.088257</td>\n",
       "      <td>-0.714567</td>\n",
       "    </tr>\n",
       "    <tr>\n",
       "      <th>997</th>\n",
       "      <td>1.365803</td>\n",
       "      <td>-1.024724</td>\n",
       "      <td>-0.898050</td>\n",
       "      <td>1.260115</td>\n",
       "      <td>-0.137339</td>\n",
       "      <td>-0.162091</td>\n",
       "      <td>0.728386</td>\n",
       "      <td>0.385492</td>\n",
       "      <td>1.142555</td>\n",
       "      <td>0.351636</td>\n",
       "      <td>0.138634</td>\n",
       "      <td>-0.906503</td>\n",
       "      <td>1.225850</td>\n",
       "      <td>0.016768</td>\n",
       "      <td>-0.606482</td>\n",
       "      <td>2.070227</td>\n",
       "      <td>-0.305880</td>\n",
       "      <td>0.913492</td>\n",
       "      <td>0.737808</td>\n",
       "      <td>0.051384</td>\n",
       "    </tr>\n",
       "    <tr>\n",
       "      <th>998</th>\n",
       "      <td>0.176144</td>\n",
       "      <td>-0.329279</td>\n",
       "      <td>1.793467</td>\n",
       "      <td>-1.074545</td>\n",
       "      <td>0.072454</td>\n",
       "      <td>0.907962</td>\n",
       "      <td>-0.346622</td>\n",
       "      <td>-1.672273</td>\n",
       "      <td>0.391016</td>\n",
       "      <td>0.568188</td>\n",
       "      <td>1.140742</td>\n",
       "      <td>0.298060</td>\n",
       "      <td>0.143206</td>\n",
       "      <td>1.991956</td>\n",
       "      <td>1.320334</td>\n",
       "      <td>-0.173261</td>\n",
       "      <td>1.304673</td>\n",
       "      <td>1.713957</td>\n",
       "      <td>-1.620925</td>\n",
       "      <td>-1.133157</td>\n",
       "    </tr>\n",
       "    <tr>\n",
       "      <th>999</th>\n",
       "      <td>-0.479005</td>\n",
       "      <td>-0.558306</td>\n",
       "      <td>-1.227481</td>\n",
       "      <td>-1.339434</td>\n",
       "      <td>0.800535</td>\n",
       "      <td>0.956403</td>\n",
       "      <td>0.845787</td>\n",
       "      <td>-3.654895</td>\n",
       "      <td>0.553783</td>\n",
       "      <td>0.647686</td>\n",
       "      <td>-0.815307</td>\n",
       "      <td>0.204758</td>\n",
       "      <td>-1.444925</td>\n",
       "      <td>1.636026</td>\n",
       "      <td>0.765934</td>\n",
       "      <td>0.941225</td>\n",
       "      <td>-0.326851</td>\n",
       "      <td>-1.838087</td>\n",
       "      <td>0.989065</td>\n",
       "      <td>-0.899723</td>\n",
       "    </tr>\n",
       "  </tbody>\n",
       "</table>\n",
       "<p>1000 rows × 20 columns</p>\n",
       "</div>"
      ],
      "text/plain": [
       "        col_0     col_1     col_2     col_3     col_4     col_5     col_6  \\\n",
       "0   -1.850339 -1.197340 -0.355523  1.116181  1.845710 -0.477279  1.487521   \n",
       "1    1.488588 -0.913817 -1.418795 -0.747513  0.355358 -0.139962 -0.687829   \n",
       "2   -0.588405 -0.071284 -0.369446  0.751150 -1.082550 -0.731904 -0.194864   \n",
       "3   -1.701368  0.570917 -1.248805 -0.170574 -0.750793  0.629564 -2.122336   \n",
       "4    0.184303  1.012137 -1.679044  1.489328 -0.932593  0.857415  0.996254   \n",
       "..        ...       ...       ...       ...       ...       ...       ...   \n",
       "995 -0.091892 -0.934044  0.147880  0.163007 -0.342986  0.627779  0.656880   \n",
       "996 -0.527461  0.150344  2.356521 -0.490172  0.008494 -0.276413 -0.612870   \n",
       "997  1.365803 -1.024724 -0.898050  1.260115 -0.137339 -0.162091  0.728386   \n",
       "998  0.176144 -0.329279  1.793467 -1.074545  0.072454  0.907962 -0.346622   \n",
       "999 -0.479005 -0.558306 -1.227481 -1.339434  0.800535  0.956403  0.845787   \n",
       "\n",
       "        col_7     col_8     col_9    col_10    col_11    col_12    col_13  \\\n",
       "0    0.315630  0.133985 -1.023797 -1.047755  0.650470 -0.318144  1.666031   \n",
       "1   -0.149273  0.551018 -1.487871  0.565381 -0.684635  0.463179 -1.374709   \n",
       "2    1.372475 -1.539740  0.300565  2.208001 -1.853615  0.578585  0.156055   \n",
       "3    0.731701 -1.188198  0.706921  1.544067 -0.638208 -0.665960  0.821595   \n",
       "4    0.730320 -0.476816 -1.924601 -0.056678  0.340880  0.488011 -1.848826   \n",
       "..        ...       ...       ...       ...       ...       ...       ...   \n",
       "995 -0.460088  0.406351  0.130552 -0.382486  0.691892 -0.353274  1.675991   \n",
       "996  0.604112  0.552222  0.388602 -0.564388 -0.244958 -2.421771  0.261117   \n",
       "997  0.385492  1.142555  0.351636  0.138634 -0.906503  1.225850  0.016768   \n",
       "998 -1.672273  0.391016  0.568188  1.140742  0.298060  0.143206  1.991956   \n",
       "999 -3.654895  0.553783  0.647686 -0.815307  0.204758 -1.444925  1.636026   \n",
       "\n",
       "       col_14    col_15    col_16    col_17    col_18    col_19  \n",
       "0    0.175629 -1.099117 -0.756235 -0.506405  0.427088 -0.513930  \n",
       "1    1.619136 -0.674355 -1.599199  0.909847  1.402835 -0.347821  \n",
       "2   -0.892241 -1.392123 -0.040691  0.309030  0.285427  1.147056  \n",
       "3   -0.600191 -1.040545 -0.306324 -1.203122  1.000677  0.704866  \n",
       "4   -1.419831  1.471304 -1.982000  0.447148  1.679173 -1.702966  \n",
       "..        ...       ...       ...       ...       ...       ...  \n",
       "995 -0.021521  0.697908  0.153288  0.252674 -0.143369  0.401495  \n",
       "996 -0.513333  0.486842  1.518778  1.545145 -2.088257 -0.714567  \n",
       "997 -0.606482  2.070227 -0.305880  0.913492  0.737808  0.051384  \n",
       "998  1.320334 -0.173261  1.304673  1.713957 -1.620925 -1.133157  \n",
       "999  0.765934  0.941225 -0.326851 -1.838087  0.989065 -0.899723  \n",
       "\n",
       "[1000 rows x 20 columns]"
      ]
     },
     "execution_count": 5,
     "metadata": {},
     "output_type": "execute_result"
    }
   ],
   "source": [
    "data"
   ]
  },
  {
   "cell_type": "markdown",
   "metadata": {},
   "source": [
    "# Define all expressions in one go and get the targets\n",
    "\n",
    "Quick way to get your y target.<br>\n",
    "\n",
    "Define the expression dictionary as in the example below.\n",
    "\n",
    "Allowed keys are\n",
    "\n",
    "- linear: expects a value being a string with an expression\n",
    "- non_linear: expects a value being a string with an expression\n",
    "- interaction: expects a value being a string with an expression\n",
    "- conditional: expects a dictionary, where:<br>\n",
    "    - keys: are the conditions\n",
    "    - values are tuples:\n",
    "        - the first element is the expression or a value to assign to in case when the conditions is true\n",
    "        - the second element is the expression or a value to assign to in case when the conditions is false\n",
    "\n",
    "- uniform noise: expects a dictionary with kwargs to apply, options are\n",
    "    - weight\n",
    "    - min (for scaling)\n",
    "    - max (for scaling)\n",
    "\n",
    "    \n",
    "- gaussian noise: expects a dictionary with kwargs to apply, options are\n",
    "    - weight\n",
    "    - mu_gaus\n",
    "    - sigma_gaus\n",
    "\n"
   ]
  },
  {
   "cell_type": "code",
   "execution_count": 6,
   "metadata": {},
   "outputs": [],
   "source": [
    "expressions = {\n",
    "    'linear': '-0.5*col_0 + 2.*col_1 + 0.7*col_7 -0.4*col_14',\n",
    "    'non_linear': '-0.7*col_1**1.5 + 0.2*sin(col_7)+ 0.9*log(col_19) -0.1*col_13**2',\n",
    "    'interaction': '0.05*col_3*col_4 -0.1*(col_7/col_11)',\n",
    "    'conditional': {\n",
    "        'col_0>0':(\n",
    "            '-0.5*col_0 + 2.*col_1 + 0.7*col_7 -0.4*col_14', #True\n",
    "            0 #False\n",
    "        ),\n",
    "        'col_2>0.15':(\n",
    "            '-0.5*col_0 + 2.*col_13 + 0.2*col_17 -0.7*col_11',#True\n",
    "            '-0.5*col_1' #False\n",
    "        )\n",
    "    },\n",
    "    'uniform_noise': {\n",
    "        'weight':0.5\n",
    "    },\n",
    "    'gaussian_noise': {\n",
    "        'weight':0.5,\n",
    "        'mu_gaus': 0\n",
    "    }\n",
    "}"
   ]
  },
  {
   "cell_type": "code",
   "execution_count": 7,
   "metadata": {},
   "outputs": [],
   "source": [
    "contr_and_target_df = target.get_target_and_contributions(data, expressions=expressions, imbalance = 0.2)"
   ]
  },
  {
   "cell_type": "code",
   "execution_count": 8,
   "metadata": {},
   "outputs": [
    {
     "data": {
      "text/html": [
       "<div>\n",
       "<style scoped>\n",
       "    .dataframe tbody tr th:only-of-type {\n",
       "        vertical-align: middle;\n",
       "    }\n",
       "\n",
       "    .dataframe tbody tr th {\n",
       "        vertical-align: top;\n",
       "    }\n",
       "\n",
       "    .dataframe thead th {\n",
       "        text-align: right;\n",
       "    }\n",
       "</style>\n",
       "<table border=\"1\" class=\"dataframe\">\n",
       "  <thead>\n",
       "    <tr style=\"text-align: right;\">\n",
       "      <th></th>\n",
       "      <th>score_linear</th>\n",
       "      <th>score_non_linear</th>\n",
       "      <th>score_interaction</th>\n",
       "      <th>score_conditional</th>\n",
       "      <th>score_uniform_noise</th>\n",
       "      <th>score_gaussian_noise</th>\n",
       "      <th>score_total</th>\n",
       "      <th>y</th>\n",
       "    </tr>\n",
       "  </thead>\n",
       "  <tbody>\n",
       "    <tr>\n",
       "      <th>0</th>\n",
       "      <td>0.818894</td>\n",
       "      <td>-0.975218</td>\n",
       "      <td>-0.062286</td>\n",
       "      <td>0.000000</td>\n",
       "      <td>-0.032489</td>\n",
       "      <td>0.036209</td>\n",
       "      <td>-0.214890</td>\n",
       "      <td>0</td>\n",
       "    </tr>\n",
       "    <tr>\n",
       "      <th>1</th>\n",
       "      <td>0.499113</td>\n",
       "      <td>-0.908762</td>\n",
       "      <td>-0.105083</td>\n",
       "      <td>0.499113</td>\n",
       "      <td>-0.457964</td>\n",
       "      <td>-0.267424</td>\n",
       "      <td>-0.741006</td>\n",
       "      <td>0</td>\n",
       "    </tr>\n",
       "    <tr>\n",
       "      <th>2</th>\n",
       "      <td>1.231402</td>\n",
       "      <td>-0.575233</td>\n",
       "      <td>-0.273727</td>\n",
       "      <td>0.000000</td>\n",
       "      <td>-0.135429</td>\n",
       "      <td>0.454203</td>\n",
       "      <td>0.701217</td>\n",
       "      <td>0</td>\n",
       "    </tr>\n",
       "    <tr>\n",
       "      <th>3</th>\n",
       "      <td>1.433956</td>\n",
       "      <td>-0.779449</td>\n",
       "      <td>-0.133892</td>\n",
       "      <td>0.000000</td>\n",
       "      <td>-0.219048</td>\n",
       "      <td>0.287103</td>\n",
       "      <td>0.588670</td>\n",
       "      <td>0</td>\n",
       "    </tr>\n",
       "    <tr>\n",
       "      <th>4</th>\n",
       "      <td>1.461646</td>\n",
       "      <td>-1.757218</td>\n",
       "      <td>-0.093105</td>\n",
       "      <td>1.461646</td>\n",
       "      <td>-0.348126</td>\n",
       "      <td>-0.434450</td>\n",
       "      <td>0.290392</td>\n",
       "      <td>0</td>\n",
       "    </tr>\n",
       "  </tbody>\n",
       "</table>\n",
       "</div>"
      ],
      "text/plain": [
       "   score_linear  score_non_linear  score_interaction  score_conditional  \\\n",
       "0      0.818894         -0.975218          -0.062286           0.000000   \n",
       "1      0.499113         -0.908762          -0.105083           0.499113   \n",
       "2      1.231402         -0.575233          -0.273727           0.000000   \n",
       "3      1.433956         -0.779449          -0.133892           0.000000   \n",
       "4      1.461646         -1.757218          -0.093105           1.461646   \n",
       "\n",
       "   score_uniform_noise  score_gaussian_noise  score_total  y  \n",
       "0            -0.032489              0.036209    -0.214890  0  \n",
       "1            -0.457964             -0.267424    -0.741006  0  \n",
       "2            -0.135429              0.454203     0.701217  0  \n",
       "3            -0.219048              0.287103     0.588670  0  \n",
       "4            -0.348126             -0.434450     0.290392  0  "
      ]
     },
     "execution_count": 8,
     "metadata": {},
     "output_type": "execute_result"
    }
   ],
   "source": [
    "contr_and_target_df.head()"
   ]
  },
  {
   "cell_type": "code",
   "execution_count": 9,
   "metadata": {},
   "outputs": [
    {
     "data": {
      "text/plain": [
       "0    800\n",
       "1    200\n",
       "Name: y, dtype: int64"
      ]
     },
     "execution_count": 9,
     "metadata": {},
     "output_type": "execute_result"
    }
   ],
   "source": [
    "contr_and_target_df['y'].value_counts()"
   ]
  },
  {
   "cell_type": "markdown",
   "metadata": {},
   "source": [
    "# Build your own contributions \n",
    "\n",
    "This part descrives the inner workings of the `get_target_and_contributions` function.\n",
    "\n",
    "### Simple contributions\n",
    "\n",
    "Define here the contributions to use.<br>\n",
    "\n",
    "Note the function `score_from_expressions`, this one can use any type of input.<br>\n",
    "\n",
    "For documentation purposes, it is split in linear, non linear and interaction component, but they can be defined in one expression as well."
   ]
  },
  {
   "cell_type": "code",
   "execution_count": 10,
   "metadata": {},
   "outputs": [],
   "source": [
    "linear_component = '-0.5*col_0 + 2.*col_1 + 0.7*col_7 -0.4*col_14'\n",
    "non_linear_component = '-0.7*col_1**1.5 + 0.2*sin(col_7)+ 0.9*log(col_19) -0.1*col_13**2'\n",
    "inter_component = '0.05*col_3*col_4 -0.1*(col_7/col_11)'"
   ]
  },
  {
   "cell_type": "code",
   "execution_count": 11,
   "metadata": {},
   "outputs": [],
   "source": [
    "score_linear = target.score_from_expression(data, expr=linear_component)\n",
    "score_non_linear = target.score_from_expression(data, expr=non_linear_component)\n",
    "score_interaction = target.score_from_expression(data, expr=inter_component)"
   ]
  },
  {
   "cell_type": "markdown",
   "metadata": {},
   "source": [
    "### Conditional interaction"
   ]
  },
  {
   "cell_type": "code",
   "execution_count": 12,
   "metadata": {},
   "outputs": [],
   "source": [
    "cond_expr = {\n",
    "    'col_0>0':(\n",
    "        '-0.5*col_0 + 2.*col_1 + 0.7*col_7 -0.4*col_14', #True\n",
    "        0 #False\n",
    "    ),\n",
    "    'col_2>0.15':(\n",
    "        '-0.5*col_0 + 2.*col_13 + 0.2*col_17 -0.7*col_11',#True\n",
    "        '-0.5*col_1' #False\n",
    "    )\n",
    "}"
   ]
  },
  {
   "cell_type": "code",
   "execution_count": 13,
   "metadata": {},
   "outputs": [],
   "source": [
    "cond_scores = target.score_with_condition(data,cond_expr = cond_expr )"
   ]
  },
  {
   "cell_type": "code",
   "execution_count": 14,
   "metadata": {},
   "outputs": [
    {
     "data": {
      "text/plain": [
       "0      0.000000\n",
       "1      0.499113\n",
       "2      0.000000\n",
       "3      0.000000\n",
       "4      1.461646\n",
       "         ...   \n",
       "995    0.000000\n",
       "996    0.000000\n",
       "997    0.661167\n",
       "998    0.642566\n",
       "999    0.000000\n",
       "Length: 1000, dtype: float64"
      ]
     },
     "execution_count": 14,
     "metadata": {},
     "output_type": "execute_result"
    }
   ],
   "source": [
    "cond_scores"
   ]
  },
  {
   "cell_type": "markdown",
   "metadata": {},
   "source": [
    "### Noise contribution"
   ]
  },
  {
   "cell_type": "code",
   "execution_count": 15,
   "metadata": {},
   "outputs": [],
   "source": [
    "score_random_noise = target.score_uniform_noise(data, weight=0)\n",
    "score_gaussian_noise = target.score_gaussian_noise(data, weight=0, mu_gaus=0.5)"
   ]
  },
  {
   "cell_type": "markdown",
   "metadata": {},
   "source": [
    "### Put it all together and get the target"
   ]
  },
  {
   "cell_type": "code",
   "execution_count": 16,
   "metadata": {},
   "outputs": [],
   "source": [
    "score_final = score_linear + score_non_linear + score_interaction + cond_scores + score_random_noise + score_gaussian_noise"
   ]
  },
  {
   "cell_type": "code",
   "execution_count": 17,
   "metadata": {},
   "outputs": [
    {
     "data": {
      "text/plain": [
       "1    500\n",
       "0    500\n",
       "dtype: int64"
      ]
     },
     "execution_count": 17,
     "metadata": {},
     "output_type": "execute_result"
    }
   ],
   "source": [
    "y = target.define_target(score_final, imbalance_fraction=0.5)\n",
    "\n",
    "y.value_counts()"
   ]
  },
  {
   "cell_type": "markdown",
   "metadata": {},
   "source": [
    "# Check the performances"
   ]
  },
  {
   "cell_type": "code",
   "execution_count": 18,
   "metadata": {},
   "outputs": [],
   "source": [
    "from sklearn.metrics import roc_auc_score"
   ]
  },
  {
   "cell_type": "code",
   "execution_count": 19,
   "metadata": {},
   "outputs": [
    {
     "data": {
      "text/plain": [
       "1.0"
      ]
     },
     "execution_count": 19,
     "metadata": {},
     "output_type": "execute_result"
    }
   ],
   "source": [
    "roc_auc_score(y, score_final)"
   ]
  },
  {
   "cell_type": "code",
   "execution_count": 20,
   "metadata": {},
   "outputs": [
    {
     "name": "stdout",
     "output_type": "stream",
     "text": [
      "Linear AUC     : 0.7025\n",
      "Non Linear AUC : 0.6378\n",
      "Interaction AUC: 0.4382\n",
      "Conditional AUC: 0.8257\n",
      "Max AUC        : 1.0\n"
     ]
    }
   ],
   "source": [
    "print(f'Linear AUC     : {np.round(roc_auc_score(y, score_linear),4)}')\n",
    "print(f'Non Linear AUC : {np.round(roc_auc_score(y, score_non_linear),4)}')\n",
    "print(f'Interaction AUC: {np.round(roc_auc_score(y, score_interaction),4)}')\n",
    "print(f'Conditional AUC: {np.round(roc_auc_score(y, cond_scores),4)}')\n",
    "print(f'Max AUC        : {np.round(roc_auc_score(y, score_linear + score_non_linear + score_interaction + cond_scores ),4)}')"
   ]
  },
  {
   "cell_type": "markdown",
   "metadata": {},
   "source": [
    "# Simple try\n",
    "\n",
    "Add only linear contribution, build a Logisict Regression and see the interpretation\n",
    "\n"
   ]
  },
  {
   "cell_type": "code",
   "execution_count": 21,
   "metadata": {},
   "outputs": [
    {
     "data": {
      "text/plain": [
       "1    500\n",
       "0    500\n",
       "dtype: int64"
      ]
     },
     "execution_count": 21,
     "metadata": {},
     "output_type": "execute_result"
    }
   ],
   "source": [
    "y_lin = target.define_target(score_linear, imbalance_fraction=0.5)\n",
    "y_lin.value_counts()"
   ]
  },
  {
   "cell_type": "code",
   "execution_count": 22,
   "metadata": {},
   "outputs": [],
   "source": [
    "from sklearn.linear_model import LogisticRegression\n",
    "from sklearn.preprocessing import MinMaxScaler"
   ]
  },
  {
   "cell_type": "code",
   "execution_count": 23,
   "metadata": {},
   "outputs": [
    {
     "data": {
      "text/plain": [
       "'-0.5*col_0 + 2.*col_1 + 0.7*col_7 -0.4*col_14'"
      ]
     },
     "execution_count": 23,
     "metadata": {},
     "output_type": "execute_result"
    }
   ],
   "source": [
    "linear_component"
   ]
  },
  {
   "cell_type": "code",
   "execution_count": 24,
   "metadata": {},
   "outputs": [],
   "source": [
    "X_lin = MinMaxScaler().fit_transform(data[['col_0', 'col_1', 'col_7','col_14']])"
   ]
  },
  {
   "cell_type": "code",
   "execution_count": 25,
   "metadata": {},
   "outputs": [],
   "source": [
    "lr = LogisticRegression(penalty='none', fit_intercept=False).fit(X_lin,y_lin)"
   ]
  },
  {
   "cell_type": "code",
   "execution_count": 26,
   "metadata": {},
   "outputs": [
    {
     "data": {
      "text/plain": [
       "0.9398759999999998"
      ]
     },
     "execution_count": 26,
     "metadata": {},
     "output_type": "execute_result"
    }
   ],
   "source": [
    "roc_auc_score(y_lin,lr.predict_proba(X_lin)[:,1])"
   ]
  },
  {
   "cell_type": "code",
   "execution_count": 27,
   "metadata": {},
   "outputs": [
    {
     "data": {
      "text/plain": [
       "(array([[ -9.9421794 ,  17.88254454,   1.36980712, -11.23104604]]),\n",
       " array([0.]))"
      ]
     },
     "execution_count": 27,
     "metadata": {},
     "output_type": "execute_result"
    }
   ],
   "source": [
    "lr.coef_, lr.intercept_"
   ]
  },
  {
   "cell_type": "code",
   "execution_count": 28,
   "metadata": {},
   "outputs": [],
   "source": [
    "from scipy.stats import logistic\n",
    "from scipy.special import expit"
   ]
  },
  {
   "cell_type": "code",
   "execution_count": 29,
   "metadata": {},
   "outputs": [
    {
     "data": {
      "text/plain": [
       "0.7332163442004278"
      ]
     },
     "execution_count": 29,
     "metadata": {},
     "output_type": "execute_result"
    }
   ],
   "source": [
    "logistic.cdf(score_linear)[y_lin==1].min()"
   ]
  },
  {
   "cell_type": "code",
   "execution_count": 30,
   "metadata": {},
   "outputs": [
    {
     "data": {
      "text/plain": [
       "0.7330079939503215"
      ]
     },
     "execution_count": 30,
     "metadata": {},
     "output_type": "execute_result"
    }
   ],
   "source": [
    "logistic.cdf(score_linear)[y_lin==0].max()"
   ]
  },
  {
   "cell_type": "code",
   "execution_count": null,
   "metadata": {},
   "outputs": [],
   "source": []
  }
 ],
 "metadata": {
  "kernelspec": {
   "display_name": "Python 3",
   "language": "python",
   "name": "python3"
  },
  "language_info": {
   "codemirror_mode": {
    "name": "ipython",
    "version": 3
   },
   "file_extension": ".py",
   "mimetype": "text/x-python",
   "name": "python",
   "nbconvert_exporter": "python",
   "pygments_lexer": "ipython3",
   "version": "3.6.10"
  }
 },
 "nbformat": 4,
 "nbformat_minor": 4
}
